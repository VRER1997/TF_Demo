{
 "cells": [
  {
   "cell_type": "code",
   "execution_count": 58,
   "metadata": {
    "collapsed": true
   },
   "outputs": [],
   "source": [
    "import numpy as np\n",
    "import tensorflow as tf\n",
    "import matplotlib.pylab as plt\n",
    "import pandas"
   ]
  },
  {
   "cell_type": "code",
   "execution_count": 59,
   "metadata": {},
   "outputs": [],
   "source": [
    "data = np.asarray(pandas.read_csv('./iris.csv'))"
   ]
  },
  {
   "cell_type": "code",
   "execution_count": 60,
   "metadata": {},
   "outputs": [],
   "source": [
    "d1 = data[data[:, -1] == 'setosa'][:, 1:]\n",
    "d2 = data[data[:, -1] == 'versicolor'][:, 1:]\n",
    "d3 = data[data[:, -1] == 'virginica'][:, 1:]\n",
    "\n",
    "d1[:, -1], d2[:, -1], d3[:, -1] = 0, 1, 2\n",
    "\n",
    "data = np.vstack((d1, d2, d3))"
   ]
  },
  {
   "cell_type": "code",
   "execution_count": 64,
   "metadata": {},
   "outputs": [],
   "source": [
    "label = np.zeros((data.shape[0], 3))\n",
    "for i in range(data.shape[0]):\n",
    "    label[i, data[i,-1]] = 1"
   ]
  },
  {
   "cell_type": "code",
   "execution_count": 65,
   "metadata": {},
   "outputs": [
    {
     "data": {
      "text/plain": [
       "(150, 5)"
      ]
     },
     "execution_count": 65,
     "metadata": {},
     "output_type": "execute_result"
    }
   ],
   "source": [
    "data.shape"
   ]
  },
  {
   "cell_type": "code",
   "execution_count": 66,
   "metadata": {},
   "outputs": [
    {
     "data": {
      "text/plain": [
       "(150, 3)"
      ]
     },
     "execution_count": 66,
     "metadata": {},
     "output_type": "execute_result"
    }
   ],
   "source": [
    "label.shape"
   ]
  },
  {
   "cell_type": "code",
   "execution_count": 73,
   "metadata": {},
   "outputs": [],
   "source": [
    " data = np.hstack((data[:, :-1],label))"
   ]
  },
  {
   "cell_type": "code",
   "execution_count": 75,
   "metadata": {},
   "outputs": [
    {
     "data": {
      "text/plain": [
       "array([[5.1, 3.5, 1.4, 0.2, 1.0, 0.0, 0.0],\n",
       "       [4.9, 3.0, 1.4, 0.2, 1.0, 0.0, 0.0],\n",
       "       [4.7, 3.2, 1.3, 0.2, 1.0, 0.0, 0.0],\n",
       "       [4.6, 3.1, 1.5, 0.2, 1.0, 0.0, 0.0],\n",
       "       [5.0, 3.6, 1.4, 0.2, 1.0, 0.0, 0.0],\n",
       "       [5.4, 3.9, 1.7, 0.4, 1.0, 0.0, 0.0],\n",
       "       [4.6, 3.4, 1.4, 0.3, 1.0, 0.0, 0.0],\n",
       "       [5.0, 3.4, 1.5, 0.2, 1.0, 0.0, 0.0],\n",
       "       [4.4, 2.9, 1.4, 0.2, 1.0, 0.0, 0.0],\n",
       "       [4.9, 3.1, 1.5, 0.1, 1.0, 0.0, 0.0]], dtype=object)"
      ]
     },
     "execution_count": 75,
     "metadata": {},
     "output_type": "execute_result"
    }
   ],
   "source": [
    "data[:10]"
   ]
  },
  {
   "cell_type": "code",
   "execution_count": null,
   "metadata": {
    "collapsed": true
   },
   "outputs": [],
   "source": []
  }
 ],
 "metadata": {
  "kernelspec": {
   "display_name": "Python 3",
   "language": "python",
   "name": "python3"
  },
  "language_info": {
   "codemirror_mode": {
    "name": "ipython",
    "version": 3
   },
   "file_extension": ".py",
   "mimetype": "text/x-python",
   "name": "python",
   "nbconvert_exporter": "python",
   "pygments_lexer": "ipython3",
   "version": "3.6.2"
  }
 },
 "nbformat": 4,
 "nbformat_minor": 2
}
